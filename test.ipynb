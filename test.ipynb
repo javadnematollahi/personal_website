{
 "cells": [
  {
   "cell_type": "code",
   "execution_count": 13,
   "metadata": {},
   "outputs": [
    {
     "name": "stdout",
     "output_type": "stream",
     "text": [
      "2024-06-30 11:42:30,175 INFO sqlalchemy.engine.Engine BEGIN (implicit)\n",
      "2024-06-30 11:42:30,177 INFO sqlalchemy.engine.Engine PRAGMA main.table_info(\"user\")\n",
      "2024-06-30 11:42:30,177 INFO sqlalchemy.engine.Engine [raw sql] ()\n",
      "2024-06-30 11:42:30,179 INFO sqlalchemy.engine.Engine COMMIT\n"
     ]
    },
    {
     "name": "stderr",
     "output_type": "stream",
     "text": [
      "c:\\Users\\Alireza\\AppData\\Local\\Programs\\Python\\Python311\\Lib\\site-packages\\sqlmodel\\main.py:557: SAWarning: This declarative base already contains a class with the same class name and module name as __main__.User, and will be replaced in the string-lookup table.\n",
      "  DeclarativeMeta.__init__(cls, classname, bases, dict_, **kw)\n"
     ]
    }
   ],
   "source": [
    "from sqlmodel import SQLModel, Session, create_engine, select, Field\n",
    "from pydantic import BaseModel\n",
    "\n",
    "class User(SQLModel, table=True):\n",
    "    __table_args__ = {'extend_existing': True} \n",
    "    id: int = Field(default=None, primary_key=True)\n",
    "    username: str = Field()\n",
    "    password: str = Field()\n",
    "\n",
    "\n",
    "\n",
    "engine = create_engine(\"sqlite:///./database.db\", echo=True)\n",
    "SQLModel.metadata.create_all(engine)\n",
    "\n",
    "# pydantic model for request validation\n",
    "class RegisterModel(BaseModel):\n",
    "    username: str\n",
    "    password: str\n",
    "    confirmpassword: str\n",
    "\n",
    "class LoginModel(BaseModel):\n",
    "    username: str\n",
    "    password: str\n",
    "\n",
    "\n",
    "class Database:\n",
    "    def __init__(self) -> None:\n",
    "        pass\n",
    "\n",
    "    def read_from_database(self, username, password):\n",
    "        with Session(engine) as db:\n",
    "            statement = select(User).where(User.username==username, User.password==password)\n",
    "            result = db.exec(statement).first()\n",
    "        return result\n",
    "    \n",
    "    def add_to_database(self, username, password):\n",
    "        with Session(engine) as db:\n",
    "            user = User(username=username, \n",
    "                             password=password)\n",
    "            db.add(user)\n",
    "            db.commit()\n",
    "\n",
    "    def delete_from_database(self, username, password):\n",
    "        with Session(engine) as db:\n",
    "            statement = select(User).where(User.username==username, User.password==password)\n",
    "            res = db.exec(statement).first()\n",
    "\n",
    "            if res is None:\n",
    "                print(f\"There's no user as {username} in database\")\n",
    "            else:\n",
    "                db.delete(res)\n",
    "                db.commit()"
   ]
  },
  {
   "cell_type": "code",
   "execution_count": 26,
   "metadata": {},
   "outputs": [
    {
     "name": "stdout",
     "output_type": "stream",
     "text": [
      "2024-06-30 11:46:11,672 INFO sqlalchemy.engine.Engine BEGIN (implicit)\n",
      "2024-06-30 11:46:11,673 INFO sqlalchemy.engine.Engine INSERT INTO user (username, password) VALUES (?, ?)\n",
      "2024-06-30 11:46:11,674 INFO sqlalchemy.engine.Engine [cached since 207.5s ago] ('javad', '123')\n",
      "2024-06-30 11:46:11,676 INFO sqlalchemy.engine.Engine COMMIT\n"
     ]
    }
   ],
   "source": [
    "db = Database()\n",
    "db.add_to_database(\"javad\", \"123\")"
   ]
  },
  {
   "cell_type": "code",
   "execution_count": 20,
   "metadata": {},
   "outputs": [
    {
     "name": "stdout",
     "output_type": "stream",
     "text": [
      "2024-06-30 11:43:17,745 INFO sqlalchemy.engine.Engine BEGIN (implicit)\n",
      "2024-06-30 11:43:17,747 INFO sqlalchemy.engine.Engine SELECT user.id, user.username, user.password \n",
      "FROM user \n",
      "WHERE user.username = ? AND user.password = ?\n",
      "2024-06-30 11:43:17,747 INFO sqlalchemy.engine.Engine [cached since 30.87s ago] ('javad', '123')\n",
      "2024-06-30 11:43:17,749 INFO sqlalchemy.engine.Engine DELETE FROM user WHERE user.id = ?\n",
      "2024-06-30 11:43:17,751 INFO sqlalchemy.engine.Engine [cached since 30.87s ago] (1,)\n",
      "2024-06-30 11:43:17,753 INFO sqlalchemy.engine.Engine COMMIT\n"
     ]
    }
   ],
   "source": [
    "db.delete_from_database(\"javad\", \"123\")"
   ]
  },
  {
   "cell_type": "code",
   "execution_count": 29,
   "metadata": {},
   "outputs": [
    {
     "name": "stdout",
     "output_type": "stream",
     "text": [
      "2024-06-30 11:46:48,973 INFO sqlalchemy.engine.Engine BEGIN (implicit)\n",
      "2024-06-30 11:46:48,975 INFO sqlalchemy.engine.Engine SELECT user.id, user.username, user.password \n",
      "FROM user \n",
      "WHERE user.username = ? AND user.password = ?\n",
      "2024-06-30 11:46:48,975 INFO sqlalchemy.engine.Engine [cached since 242.1s ago] ('jaad', '123')\n",
      "2024-06-30 11:46:48,977 INFO sqlalchemy.engine.Engine ROLLBACK\n"
     ]
    },
    {
     "ename": "AttributeError",
     "evalue": "'NoneType' object has no attribute 'username'",
     "output_type": "error",
     "traceback": [
      "\u001b[1;31m---------------------------------------------------------------------------\u001b[0m",
      "\u001b[1;31mAttributeError\u001b[0m                            Traceback (most recent call last)",
      "Cell \u001b[1;32mIn[29], line 2\u001b[0m\n\u001b[0;32m      1\u001b[0m resu\u001b[38;5;241m=\u001b[39mdb\u001b[38;5;241m.\u001b[39mread_from_database(\u001b[38;5;124m\"\u001b[39m\u001b[38;5;124mjaad\u001b[39m\u001b[38;5;124m\"\u001b[39m, \u001b[38;5;124m\"\u001b[39m\u001b[38;5;124m123\u001b[39m\u001b[38;5;124m\"\u001b[39m)\n\u001b[1;32m----> 2\u001b[0m \u001b[38;5;28mprint\u001b[39m(\u001b[43mresu\u001b[49m\u001b[38;5;241;43m.\u001b[39;49m\u001b[43musername\u001b[49m, resu\u001b[38;5;241m.\u001b[39mpassword)\n",
      "\u001b[1;31mAttributeError\u001b[0m: 'NoneType' object has no attribute 'username'"
     ]
    }
   ],
   "source": [
    "resu=db.read_from_database(\"jaad\", \"123\")\n",
    "print(resu.username, resu.password)"
   ]
  }
 ],
 "metadata": {
  "kernelspec": {
   "display_name": "Python 3",
   "language": "python",
   "name": "python3"
  },
  "language_info": {
   "codemirror_mode": {
    "name": "ipython",
    "version": 3
   },
   "file_extension": ".py",
   "mimetype": "text/x-python",
   "name": "python",
   "nbconvert_exporter": "python",
   "pygments_lexer": "ipython3",
   "version": "3.11.4"
  }
 },
 "nbformat": 4,
 "nbformat_minor": 2
}
